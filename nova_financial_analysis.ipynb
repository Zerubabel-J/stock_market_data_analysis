{
  "nbformat": 4,
  "nbformat_minor": 0,
  "metadata": {
    "colab": {
      "provenance": [],
      "authorship_tag": "ABX9TyNTpCdrjeQ8kYHv/hAGEPDr",
      "include_colab_link": true
    },
    "kernelspec": {
      "name": "python3",
      "display_name": "Python 3"
    },
    "language_info": {
      "name": "python"
    }
  },
  "cells": [
    {
      "cell_type": "markdown",
      "metadata": {
        "id": "view-in-github",
        "colab_type": "text"
      },
      "source": [
        "<a href=\"https://colab.research.google.com/github/Zerubabel-J/stock_market_data_analysis/blob/main/nova_financial_analysis.ipynb\" target=\"_parent\"><img src=\"https://colab.research.google.com/assets/colab-badge.svg\" alt=\"Open In Colab\"/></a>"
      ]
    },
    {
      "cell_type": "code",
      "source": [
        "from google.colab import drive\n",
        "drive.mount(\"/content/drive\")"
      ],
      "metadata": {
        "colab": {
          "base_uri": "https://localhost:8080/"
        },
        "id": "lURwJXu1DpHQ",
        "outputId": "1bdcabf4-b7ad-4ce7-89b8-7d66952b5ea6"
      },
      "execution_count": 3,
      "outputs": [
        {
          "output_type": "stream",
          "name": "stdout",
          "text": [
            "Mounted at /content/drive\n"
          ]
        }
      ]
    },
    {
      "cell_type": "code",
      "source": [
        "\n",
        "import pandas as pd\n",
        "\n",
        "data = pd.read_csv(\"/content/drive/MyDrive/TenX/data/raw_analyst_ratings.csv\")\n",
        "data.info()\n"
      ],
      "metadata": {
        "id": "sHd4_i8VDv2H"
      },
      "execution_count": 5,
      "outputs": []
    },
    {
      "cell_type": "code",
      "source": [
        "df['headline_length'] = df['headline'].apply(len)\n",
        "print(df['headline_length'].describe())\n"
      ],
      "metadata": {
        "id": "wgHU3fDJDSMG"
      },
      "execution_count": null,
      "outputs": []
    },
    {
      "cell_type": "markdown",
      "source": [
        "Text Analysis (Sentiment Analysis & Topic Modeling):\n",
        "\n"
      ],
      "metadata": {
        "id": "2pSyQF_kJbhW"
      }
    },
    {
      "cell_type": "code",
      "source": [
        "from nltk.sentiment.vader import SentimentIntensityAnalyzer\n",
        "sia = SentimentIntensityAnalyzer()\n",
        "df['sentiment'] = df['headline'].apply(lambda x: sia.polarity_scores(x)['compound'])\n"
      ],
      "metadata": {
        "id": "9bgzV12mJgMn"
      },
      "execution_count": null,
      "outputs": []
    },
    {
      "cell_type": "markdown",
      "source": [
        "Time Series Analysis:"
      ],
      "metadata": {
        "id": "T2a4xh07JluC"
      }
    },
    {
      "cell_type": "code",
      "source": [
        "df['date'] = pd.to_datetime(df['date'])\n",
        "df.set_index('date', inplace=True)\n",
        "df['headline'].resample('D').count().plot()\n"
      ],
      "metadata": {
        "id": "tJGgWl9kJjuk"
      },
      "execution_count": null,
      "outputs": []
    }
  ]
}