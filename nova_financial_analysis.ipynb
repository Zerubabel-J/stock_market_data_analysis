{
  "nbformat": 4,
  "nbformat_minor": 0,
  "metadata": {
    "colab": {
      "provenance": [],
      "authorship_tag": "ABX9TyOH682ly2V4AS0GdbDdSIvn",
      "include_colab_link": true
    },
    "kernelspec": {
      "name": "python3",
      "display_name": "Python 3"
    },
    "language_info": {
      "name": "python"
    }
  },
  "cells": [
    {
      "cell_type": "markdown",
      "metadata": {
        "id": "view-in-github",
        "colab_type": "text"
      },
      "source": [
        "<a href=\"https://colab.research.google.com/github/Zerubabel-J/stock_market_data_analysis/blob/main/nova_financial_analysis.ipynb\" target=\"_parent\"><img src=\"https://colab.research.google.com/assets/colab-badge.svg\" alt=\"Open In Colab\"/></a>"
      ]
    },
    {
      "cell_type": "code",
      "source": [
        "from google.colab import drive\n",
        "drive.mount(\"/content/drive\")"
      ],
      "metadata": {
        "colab": {
          "base_uri": "https://localhost:8080/"
        },
        "id": "lURwJXu1DpHQ",
        "outputId": "1bdcabf4-b7ad-4ce7-89b8-7d66952b5ea6"
      },
      "execution_count": null,
      "outputs": [
        {
          "output_type": "stream",
          "name": "stdout",
          "text": [
            "Mounted at /content/drive\n"
          ]
        }
      ]
    },
    {
      "cell_type": "code",
      "source": [
        "\n",
        "import pandas as pd\n",
        "df = pd.read_csv(\"/content/drive/MyDrive/TenX/data/raw_analyst_ratings.csv\")\n",
        "df.info()\n"
      ],
      "metadata": {
        "colab": {
          "base_uri": "https://localhost:8080/"
        },
        "id": "sHd4_i8VDv2H",
        "outputId": "1944b1f3-a05f-4af3-ba4f-46abf136d7b6"
      },
      "execution_count": 9,
      "outputs": [
        {
          "output_type": "stream",
          "name": "stdout",
          "text": [
            "<class 'pandas.core.frame.DataFrame'>\n",
            "RangeIndex: 1407328 entries, 0 to 1407327\n",
            "Data columns (total 6 columns):\n",
            " #   Column      Non-Null Count    Dtype \n",
            "---  ------      --------------    ----- \n",
            " 0   Unnamed: 0  1407328 non-null  int64 \n",
            " 1   headline    1407328 non-null  object\n",
            " 2   url         1407328 non-null  object\n",
            " 3   publisher   1407328 non-null  object\n",
            " 4   date        1407328 non-null  object\n",
            " 5   stock       1407328 non-null  object\n",
            "dtypes: int64(1), object(5)\n",
            "memory usage: 64.4+ MB\n"
          ]
        }
      ]
    },
    {
      "cell_type": "code",
      "source": [
        "df['headline_length'] = df['headline'].apply(len)\n",
        "print(df['headline_length'].describe())\n"
      ],
      "metadata": {
        "id": "wgHU3fDJDSMG",
        "colab": {
          "base_uri": "https://localhost:8080/"
        },
        "outputId": "7077637c-08de-48ac-bc89-236d76ba138b"
      },
      "execution_count": 10,
      "outputs": [
        {
          "output_type": "stream",
          "name": "stdout",
          "text": [
            "count    1.407328e+06\n",
            "mean     7.312051e+01\n",
            "std      4.073531e+01\n",
            "min      3.000000e+00\n",
            "25%      4.700000e+01\n",
            "50%      6.400000e+01\n",
            "75%      8.700000e+01\n",
            "max      5.120000e+02\n",
            "Name: headline_length, dtype: float64\n"
          ]
        }
      ]
    },
    {
      "cell_type": "markdown",
      "source": [
        "Text Analysis (Sentiment Analysis & Topic Modeling):\n",
        "\n"
      ],
      "metadata": {
        "id": "2pSyQF_kJbhW"
      }
    },
    {
      "cell_type": "code",
      "source": [
        "import nltk\n",
        "nltk.download('vader_lexicon')\n"
      ],
      "metadata": {
        "colab": {
          "base_uri": "https://localhost:8080/"
        },
        "id": "jzwpLG_kL8ot",
        "outputId": "5cf33638-9b4d-4bca-fb3c-9d21fb534c5c"
      },
      "execution_count": 13,
      "outputs": [
        {
          "output_type": "stream",
          "name": "stderr",
          "text": [
            "[nltk_data] Downloading package vader_lexicon to /root/nltk_data...\n"
          ]
        },
        {
          "output_type": "execute_result",
          "data": {
            "text/plain": [
              "True"
            ]
          },
          "metadata": {},
          "execution_count": 13
        }
      ]
    },
    {
      "cell_type": "code",
      "source": [
        "from nltk.sentiment.vader import SentimentIntensityAnalyzer\n",
        "\n",
        "sia = SentimentIntensityAnalyzer()\n",
        "df['sentiment'] = df['headline'].apply(lambda x: sia.polarity_scores(x)['compound'])\n"
      ],
      "metadata": {
        "id": "9bgzV12mJgMn"
      },
      "execution_count": 14,
      "outputs": []
    },
    {
      "cell_type": "markdown",
      "source": [
        "Time Series Analysis:"
      ],
      "metadata": {
        "id": "T2a4xh07JluC"
      }
    },
    {
      "cell_type": "code",
      "source": [
        "df['date'] = pd.to_datetime(df['date'], infer_datetime_format=True, errors='coerce')\n"
      ],
      "metadata": {
        "colab": {
          "base_uri": "https://localhost:8080/"
        },
        "id": "mZGihiaVMY2y",
        "outputId": "45fbdf82-62a5-4682-922b-6d24a3c92462"
      },
      "execution_count": 15,
      "outputs": [
        {
          "output_type": "stream",
          "name": "stderr",
          "text": [
            "<ipython-input-15-774412963e53>:1: UserWarning: The argument 'infer_datetime_format' is deprecated and will be removed in a future version. A strict version of it is now the default, see https://pandas.pydata.org/pdeps/0004-consistent-to-datetime-parsing.html. You can safely remove this argument.\n",
            "  df['date'] = pd.to_datetime(df['date'], infer_datetime_format=True, errors='coerce')\n"
          ]
        }
      ]
    },
    {
      "cell_type": "code",
      "source": [
        "print(df['date'].isna().sum())  # Check how many dates could not be parsed\n"
      ],
      "metadata": {
        "colab": {
          "base_uri": "https://localhost:8080/"
        },
        "id": "7Fch02vGMa2H",
        "outputId": "644abab3-e947-4e39-c72f-d2bdf7e088c0"
      },
      "execution_count": 16,
      "outputs": [
        {
          "output_type": "stream",
          "name": "stdout",
          "text": [
            "1351341\n"
          ]
        }
      ]
    },
    {
      "cell_type": "code",
      "source": [
        "df.set_index('date', inplace=True)\n",
        "df['headline'].resample('D').count().plot()\n"
      ],
      "metadata": {
        "id": "tJGgWl9kJjuk",
        "colab": {
          "base_uri": "https://localhost:8080/",
          "height": 467
        },
        "outputId": "61d1fcd5-a4d6-4e18-890c-56a09693ea9c"
      },
      "execution_count": 17,
      "outputs": [
        {
          "output_type": "execute_result",
          "data": {
            "text/plain": [
              "<Axes: xlabel='date'>"
            ]
          },
          "metadata": {},
          "execution_count": 17
        },
        {
          "output_type": "display_data",
          "data": {
            "text/plain": [
              "<Figure size 640x480 with 1 Axes>"
            ],
            "image/png": "[encoded data removed]"
          },
          "metadata": {}
        }
      ]
    }
  ]
}